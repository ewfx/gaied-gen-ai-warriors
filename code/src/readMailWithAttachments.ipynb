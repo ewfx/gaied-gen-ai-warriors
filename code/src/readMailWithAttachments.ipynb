{
 "cells": [
  {
   "cell_type": "code",
   "execution_count": 4,
   "id": "2a8b9ec7-ffb6-4939-80df-b94a36d3d17e",
   "metadata": {},
   "outputs": [
    {
     "name": "stdout",
     "output_type": "stream",
     "text": [
      "Collecting PyPDF2\n",
      "  Downloading pypdf2-3.0.1-py3-none-any.whl (232 kB)\n",
      "     -------------------------------------- 232.6/232.6 kB 7.2 MB/s eta 0:00:00\n",
      "Installing collected packages: PyPDF2\n",
      "Successfully installed PyPDF2-3.0.1\n"
     ]
    },
    {
     "name": "stderr",
     "output_type": "stream",
     "text": [
      "\n",
      "[notice] A new release of pip available: 22.3 -> 25.0.1\n",
      "[notice] To update, run: python.exe -m pip install --upgrade pip\n"
     ]
    }
   ],
   "source": [
    "!pip install PyPDF2"
   ]
  },
  {
   "cell_type": "code",
   "execution_count": 21,
   "id": "41626235-a149-409a-83e8-5526d16fea9c",
   "metadata": {},
   "outputs": [],
   "source": [
    "import email\n",
    "from email import policy\n",
    "from email.parser import BytesParser\n",
    "import PyPDF2\n",
    "from io import BytesIO\n",
    "\n",
    "def extract_pdf_text_from_eml(eml_file_path):\n",
    "    result = {\n",
    "        'email_body': None,  # Email body content\n",
    "        'pdf_attachments': []  # List of PDF attachments\n",
    "    }\n",
    "\n",
    "    try:\n",
    "        # Read and parse the .eml file\n",
    "        with open(eml_file_path, 'rb') as f:\n",
    "            msg = BytesParser(policy=policy.default).parse(f)\n",
    "\n",
    "        # Check if the email has multiple parts (multipart)\n",
    "        if msg.is_multipart():\n",
    "            # Iterate through each part of the email\n",
    "            for part in msg.iter_parts():\n",
    "                content_disposition = part.get('Content-Disposition')\n",
    "                # Check if it's the main email body (text/plain or text/html)\n",
    "                if part.get_content_type() == 'text/plain' and not content_disposition:\n",
    "                    result['email_body'] = part.get_payload(decode=True).decode(part.get_content_charset())\n",
    "                # Check if the part is an attachment\n",
    "                if content_disposition and 'attachment' in content_disposition:\n",
    "                    filename = part.get_filename()\n",
    "                    content_type = part.get_content_type()\n",
    "                    # Process the PDF attachment\n",
    "                    if content_type == 'application/pdf':\n",
    "                        # Extract the PDF content as raw binary\n",
    "                        pdf_data = part.get_payload(decode=True)\n",
    "\n",
    "                        # Use PyPDF2 to read the PDF\n",
    "                        pdf_text = extract_text_from_pdf(pdf_data)\n",
    "\n",
    "                        # Store the PDF text in the result dictionary\n",
    "                        result['pdf_attachments'].append({\n",
    "                            'filename': filename,\n",
    "                            'content': pdf_text\n",
    "                        })\n",
    "\n",
    "        return result\n",
    "\n",
    "    except Exception as e:\n",
    "        print(f\"Error while extracting PDF content: {e}\")\n",
    "        return {'error': str(e)}\n",
    "\n",
    "def extract_text_from_pdf(pdf_data):\n",
    "    # Convert binary PDF data to a BytesIO object\n",
    "    pdf_file = BytesIO(pdf_data)\n",
    "    pdf_reader = PyPDF2.PdfReader(pdf_file)\n",
    "\n",
    "    # Extract text from all pages of the PDF\n",
    "    pdf_text = ''\n",
    "    for page in pdf_reader.pages:\n",
    "        pdf_text += page.extract_text()\n",
    "\n",
    "    return pdf_text\n",
    "\n",
    "# Example usage\n",
    "eml_file_path = 'emails/Proposal for Loan Restructuring and Compliance Documentation.eml'  # Path to your .eml file\n",
    "result = extract_pdf_text_from_eml(eml_file_path)\n",
    "\n",
    "# Print the result (email body and PDF text)\n",
    "#print(\"Email Body Content:\")\n",
    "#print(result.get('email_body', 'No email body found.'))\n",
    "email_content = result.get('email_body')\n",
    "attachment_content=''\n",
    "if result['pdf_attachments']:\n",
    "    #print(\"\\nPDF Attachment Content:\")\n",
    "    for pdf in result['pdf_attachments']:\n",
    "       # print(f\"--- {pdf['filename']} ---\")\n",
    "       # print(pdf['content'])  # Print PDF text content\n",
    "        attachment_content+=pdf['content']\n",
    "        \n"
   ]
  },
  {
   "cell_type": "code",
   "execution_count": 22,
   "id": "168bebe8-b711-4295-b6fb-44d2baef1c78",
   "metadata": {},
   "outputs": [],
   "source": [
    "#Create the dictionary object to send both the mail and attachment content\n",
    "completeMailContent = {\n",
    "    \"emailContent\":email_content,\n",
    "    \"attachmentContent\":attachment_content\n",
    "}\n",
    "payload = {\"content\": completeMailContent}\n",
    "#print(payload)"
   ]
  },
  {
   "cell_type": "code",
   "execution_count": 23,
   "id": "b428ba6f-38e6-4d51-a7e1-feab593bd38e",
   "metadata": {},
   "outputs": [],
   "source": [
    "import requests\n",
    "#Endpoint for the email segregation\n",
    "api_url = \"http://localhost:8080/getEmailContent\" \n",
    "\n",
    "#send post request\n",
    "response = requests.post(api_url, json=payload)\n",
    "\n",
    "# Print response\n",
    "print(response.status_code)\n",
    "print(response.text)"
   ]
  }
 ],
 "metadata": {
  "kernelspec": {
   "display_name": "Python 3 (ipykernel)",
   "language": "python",
   "name": "python3"
  },
  "language_info": {
   "codemirror_mode": {
    "name": "ipython",
    "version": 3
   },
   "file_extension": ".py",
   "mimetype": "text/x-python",
   "name": "python",
   "nbconvert_exporter": "python",
   "pygments_lexer": "ipython3",
   "version": "3.11.0"
  }
 },
 "nbformat": 4,
 "nbformat_minor": 5
}
